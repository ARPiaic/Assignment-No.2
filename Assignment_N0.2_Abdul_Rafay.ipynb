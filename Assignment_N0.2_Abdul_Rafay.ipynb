{
 "cells": [
  {
   "cell_type": "markdown",
   "metadata": {},
   "source": [
    "# The ABC company has hired you as an intern on the coding team that creates e-commerce applications.  \n",
    "You must write a script that asks the user for a value. The value must be used as a whole number in a calculation, even if the user enters a decimal value. \n",
    "\n",
    "You need to write the code to meet the requirements."
   ]
  },
  {
   "cell_type": "code",
   "execution_count": 5,
   "metadata": {},
   "outputs": [
    {
     "name": "stdout",
     "output_type": "stream",
     "text": [
      "Points earned: 55\n",
      "Your total points are  55 Congratulations, you are the winner\n"
     ]
    }
   ],
   "source": [
    "Bonus_Points_Earned = int(input(\"Points earned: \"))\n",
    "print(\"Your total points are \", Bonus_Points_Earned, \"Congratulations, you are the winner\")"
   ]
  },
  {
   "cell_type": "code",
   "execution_count": null,
   "metadata": {},
   "outputs": [],
   "source": []
  },
  {
   "cell_type": "markdown",
   "metadata": {},
   "source": [
    "# You are creating a Python program that shows a congratulation message to employees on their service anniversary.\n",
    "You need to calculate the number of years of service and print a congratulatory message. You should take the inputs from the users where necessary"
   ]
  },
  {
   "cell_type": "code",
   "execution_count": 7,
   "metadata": {},
   "outputs": [
    {
     "name": "stdout",
     "output_type": "stream",
     "text": [
      "Starting year of job: 2002\n",
      "Congratulations! You have served 17 years in this company, you are our esteemed employee\n"
     ]
    }
   ],
   "source": [
    "Appointment_Year = int(input(\"Starting year of job: \"))\n",
    "Present_year = 2019\n",
    "print(\"Congratulations! You have served\", Present_year-Appointment_Year, \"years in this company, you are our esteemed employee\")"
   ]
  },
  {
   "cell_type": "code",
   "execution_count": null,
   "metadata": {},
   "outputs": [],
   "source": []
  },
  {
   "cell_type": "code",
   "execution_count": null,
   "metadata": {},
   "outputs": [],
   "source": []
  },
  {
   "cell_type": "markdown",
   "metadata": {},
   "source": [
    "# Write a Python program to convert temperatures  from fahrenheit to celsius, \n",
    "#step 1: take \"fahrenheit Temperature\" from user in integer data type\n",
    "#step 2: apply formula that is       (  C = (5/9) * (fahrenheit_temperature - 32)  )\n",
    "#step 3: print step 2. "
   ]
  },
  {
   "cell_type": "code",
   "execution_count": 11,
   "metadata": {},
   "outputs": [
    {
     "name": "stdout",
     "output_type": "stream",
     "text": [
      "Fahrenheit Temperature: 90\n",
      "Celsius Temperature is 32.22222222222222\n"
     ]
    }
   ],
   "source": [
    "f = int(input(\"Fahrenheit Temperature: \"))\n",
    "c = (f-32)*(5/9)\n",
    "print(\"Celsius Temperature is\", c)"
   ]
  },
  {
   "cell_type": "code",
   "execution_count": null,
   "metadata": {},
   "outputs": [],
   "source": []
  },
  {
   "cell_type": "code",
   "execution_count": null,
   "metadata": {},
   "outputs": [],
   "source": []
  },
  {
   "cell_type": "markdown",
   "metadata": {},
   "source": [
    "<h3>assign a vlue to grade by checking the following conditions:: </h3>\n",
    "<h3>if % is greater then and equal to 90 and less then 100 grade is A+ </h3>\n",
    "<h3>if % is greater then and equal to 80 and less then 90 grade is A </h3>\n",
    "<h3>if % is greater then and equal to 70 and less then 80 grade is B </h3>\n",
    "<h3>if % is greater then and equal to 60 and less then 70 grade is C </h3>\n",
    "<h3>if % is less than 60 grade is FAIL </h3>\n"
   ]
  },
  {
   "cell_type": "code",
   "execution_count": 17,
   "metadata": {},
   "outputs": [
    {
     "name": "stdout",
     "output_type": "stream",
     "text": [
      "                 Marks\n",
      "Accounting     :  95\n",
      "AFS            :  88\n",
      "English        :  72\n",
      "Islamiat       :  96\n"
     ]
    }
   ],
   "source": [
    "print(\"                 Marks\")\n",
    "m_n = int(input(\"Accounting     :  \"))\n",
    "e_n = int(input(\"AFS            :  \"))\n",
    "s_n = int(input(\"English        :  \"))\n",
    "ec_n = int(input(\"Islamiat       :  \"))\n",
    "percent = (m_n + e_n + s_n + ec_n)*0.25\n",
    "sum = m_n + e_n + s_n + ec_n\n",
    "if percent > 87.99 and percent < 100:\n",
    "    grade = \"A+\"\n",
    "if percent > 79.99 and percent < 90:\n",
    "    grade = \"A\"\n",
    "if percent > 69.99 and percent < 80:\n",
    "    grade = \"B\"\n",
    "if percent > 59.99 and percent < 70:\n",
    "    grade = \"C\"\n",
    "if percent > 0 and percent < 60:\n",
    "    grade = \"Fail\""
   ]
  },
  {
   "cell_type": "code",
   "execution_count": null,
   "metadata": {},
   "outputs": [],
   "source": []
  },
  {
   "cell_type": "code",
   "execution_count": null,
   "metadata": {},
   "outputs": [],
   "source": []
  },
  {
   "cell_type": "markdown",
   "metadata": {},
   "source": [
    "<h3>Print grade percentage and obtained marks</h3>"
   ]
  },
  {
   "cell_type": "code",
   "execution_count": 22,
   "metadata": {},
   "outputs": [
    {
     "name": "stdout",
     "output_type": "stream",
     "text": [
      "Obtaind Marks :  351\n",
      "Grade         :  A\n",
      "Percentage    :  87.75\n"
     ]
    }
   ],
   "source": [
    "print(\"Obtaind Marks : \",sum )\n",
    "print(\"Grade         : \",grade)\n",
    "print (\"Percentage    : \",percent)"
   ]
  },
  {
   "cell_type": "code",
   "execution_count": null,
   "metadata": {},
   "outputs": [],
   "source": []
  }
 ],
 "metadata": {
  "kernelspec": {
   "display_name": "Python 3",
   "language": "python",
   "name": "python3"
  },
  "language_info": {
   "codemirror_mode": {
    "name": "ipython",
    "version": 3
   },
   "file_extension": ".py",
   "mimetype": "text/x-python",
   "name": "python",
   "nbconvert_exporter": "python",
   "pygments_lexer": "ipython3",
   "version": "3.7.3"
  }
 },
 "nbformat": 4,
 "nbformat_minor": 2
}
